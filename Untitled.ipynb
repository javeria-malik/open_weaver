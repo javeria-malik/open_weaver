{
 "cells": [
  {
   "cell_type": "code",
   "execution_count": 1,
   "id": "66b8f61e",
   "metadata": {},
   "outputs": [
    {
     "name": "stdout",
     "output_type": "stream",
     "text": [
      "hello_open\n"
     ]
    }
   ],
   "source": [
    "#Exercise 1 - Displaying Text to User 340: This exercise helps you print text to the output screen with the inbuilt print() \n",
    "#function in python.\n",
    "print(\"hello_open\")"
   ]
  },
  {
   "cell_type": "code",
   "execution_count": 3,
   "id": "34be263e",
   "metadata": {},
   "outputs": [
    {
     "name": "stdout",
     "output_type": "stream",
     "text": [
      "enter your namejaveria\n",
      "javeria\n"
     ]
    }
   ],
   "source": [
    "#Taking Input from User 66: Python’s input() function is used to take user input . \n",
    "#By default, it returns the user input in form of a string.\n",
    "name=input(\"enter your name\")\n",
    "print(name)"
   ]
  },
  {
   "cell_type": "code",
   "execution_count": 4,
   "id": "f428f03c",
   "metadata": {},
   "outputs": [
    {
     "name": "stdout",
     "output_type": "stream",
     "text": [
      "the condition is true\n"
     ]
    }
   ],
   "source": [
    "#Exercise 3 - if else statements in Python 84: The if-else statement is used to execute both the true part and the false part of a given condition . If the condition is true, the if block code is executed and if the condition is false,\n",
    "#the else block code is executed.\n",
    "num=5\n",
    "if num==5:\n",
    "    print(\"the condition is true\")\n",
    "else:\n",
    "    print(\"consition is false\")\n"
   ]
  },
  {
   "cell_type": "code",
   "execution_count": null,
   "id": "5c91c30d",
   "metadata": {},
   "outputs": [],
   "source": []
  }
 ],
 "metadata": {
  "kernelspec": {
   "display_name": "Python 3 (ipykernel)",
   "language": "python",
   "name": "python3"
  },
  "language_info": {
   "codemirror_mode": {
    "name": "ipython",
    "version": 3
   },
   "file_extension": ".py",
   "mimetype": "text/x-python",
   "name": "python",
   "nbconvert_exporter": "python",
   "pygments_lexer": "ipython3",
   "version": "3.11.4"
  }
 },
 "nbformat": 4,
 "nbformat_minor": 5
}
